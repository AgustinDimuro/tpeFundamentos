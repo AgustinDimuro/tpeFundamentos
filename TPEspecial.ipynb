{
 "cells": [
  {
   "cell_type": "markdown",
   "metadata": {},
   "source": [
    "# Informe Template\n",
    "-introduccion -> hipotesis\n",
    "\n",
    "-materiales\n",
    "\n",
    "-metodos/resultados -> experimentos\n",
    "\n",
    "-conclusiones\n",
    "\n",
    "-referencias"
   ]
  },
  {
   "cell_type": "markdown",
   "metadata": {},
   "source": [
    "<div style=\"text-align: center\">\n",
    " <h1><span style=\"color: red\">TPE Fundamentos</span> </h1>\n",
    "</div>\n",
    "\n",
    "### Grupo numero 1\n",
    "\n",
    "Integrantes:\n",
    "- Dimuro, Agustin Nicolas\n",
    "- Grillo, Agustin German\n",
    "- Padilla, Tomas Agustin\n",
    "\n",
    "---\n"
   ]
  },
  {
   "cell_type": "markdown",
   "metadata": {},
   "source": [
    "<div style=\"text-align: center\"> \n",
    "    <h2> Analisis descriptivo de las columnas </h2>\n",
    "</div>\n",
    "\n",
    "**Track:** el título de la canción.  \n",
    "**Artist:** el intérprete o grupo que grabó la canción.  \n",
    "**Duration:** la duración de la canción, medida en minutos y segundos.  \n",
    "**Time_Signature:** la métrica musical de la canción, indica el número de pulsaciones por compás.  \n",
    "**Danceability:** una medida de qué tan adecuada es una pista para bailar, basada en el tempo, la estabilidad del ritmo, la fuerza del ritmo y la regularidad general.  \n",
    "**Energy:** una medida de intensidad y actividad en la canción, donde los valores más altos indican una pista más enérgica.  \n",
    "**Key:** la tonalidad musical en la que está compuesta la canción, representada por un número entero.  \n",
    "**Loudness:** el volumen promedio de la canción, medido en decibelios (dB).  \n",
    "**Mode:** la modalidad de la pista, indica si la canción está en tono mayor o menor.  \n",
    "**Speechiness:** una medida de la presencia de palabras habladas en una pista, valores más altos indican cualidades más parecidas al habla.  \n",
    "**Acousticness:** una medida de la calidad acústica de la pista, valores más altos indican una mayor probabilidad de ser acústica.  \n",
    "**Instrumentalness:** una medida que indica la presencia de voces, valores más altos representan pistas más instrumentales.  \n",
    "**Liveness:** una medida de la probabilidad de que la pista se haya interpretado en vivo, valores más altos indican más ruido de audiencia.  \n",
    "**Valence:** Una medida de la positividad musical de la pista, valores más altos indican música más positiva o alegre.  \n",
    "**Tempo:** la velocidad o ritmo de la pista, medida en pulsaciones por minuto (BPM).  \n",
    "**Popularity:** una puntuación que refleja la popularidad de la pista, generalmente basada en los recuentos de transmisiones y otras métricas.  \n",
    "**Year:** el año en que se lanzó la canción.  "
   ]
  },
  {
   "cell_type": "code",
   "execution_count": 3,
   "metadata": {},
   "outputs": [
    {
     "name": "stdout",
     "output_type": "stream",
     "text": [
      "<class 'pandas.core.frame.DataFrame'>\n",
      "RangeIndex: 980 entries, 0 to 979\n",
      "Data columns (total 17 columns):\n",
      " #   Column            Non-Null Count  Dtype  \n",
      "---  ------            --------------  -----  \n",
      " 0   Track             980 non-null    object \n",
      " 1   Artist            980 non-null    object \n",
      " 2   Duration          980 non-null    object \n",
      " 3   Time_Signature    980 non-null    int64  \n",
      " 4   Danceability      980 non-null    float64\n",
      " 5   Energy            980 non-null    float64\n",
      " 6   Key               980 non-null    int64  \n",
      " 7   Loudness          980 non-null    float64\n",
      " 8   Mode              980 non-null    int64  \n",
      " 9   Speechiness       980 non-null    float64\n",
      " 10  Acousticness      980 non-null    float64\n",
      " 11  Instrumentalness  980 non-null    float64\n",
      " 12  Liveness          980 non-null    float64\n",
      " 13  Valence           980 non-null    float64\n",
      " 14  Tempo             980 non-null    float64\n",
      " 15  Popularity        980 non-null    int64  \n",
      " 16  Year              980 non-null    int64  \n",
      "dtypes: float64(9), int64(5), object(3)\n",
      "memory usage: 130.3+ KB\n"
     ]
    }
   ],
   "source": [
    "import pandas as pd\n",
    "\n",
    "df = pd.read_csv(\"Covers.csv\")\n",
    "\n",
    "df.info()"
   ]
  },
  {
   "cell_type": "markdown",
   "metadata": {},
   "source": [
    "---"
   ]
  },
  {
   "cell_type": "markdown",
   "metadata": {},
   "source": [
    "<div style= \"text-align: center\">\n",
    "    <h2> Generacion del primer Profile Report </h2>\n",
    "</div>"
   ]
  },
  {
   "cell_type": "code",
   "execution_count": 4,
   "metadata": {},
   "outputs": [],
   "source": [
    "import ydata_profiling as pp\n",
    "\n",
    "report = pp.ProfileReport(df)\n",
    "# report.to_notebook_iframe()\n",
    "# report.to_file(output_file=\"covers.html\")"
   ]
  },
  {
   "cell_type": "markdown",
   "metadata": {},
   "source": [
    "---"
   ]
  },
  {
   "cell_type": "markdown",
   "metadata": {},
   "source": [
    "<div style= \"text-align: center\">\n",
    "    <h2> Analisis y preprocesamiento de cada variable</h2>\n",
    "</div>"
   ]
  },
  {
   "cell_type": "markdown",
   "metadata": {},
   "source": [
    "Como primer paso creamos una copia del dataset original, a la cual le vamos a aplicar todas las transformaciones necesarias de aqui en adelante con el objetivo de seguir manteniendo el original."
   ]
  },
  {
   "cell_type": "code",
   "execution_count": 5,
   "metadata": {},
   "outputs": [],
   "source": [
    "ds_copy=df.copy()"
   ]
  },
  {
   "cell_type": "markdown",
   "metadata": {},
   "source": [
    "**Duration:** la duración de la canción, medida en minutos y segundos.  \n",
    "A continuación, para facilitarnos el posible análisis a futuro de esta columna, decidimos pasar todos los valores de ella a segundos y representarlos en int."
   ]
  },
  {
   "cell_type": "code",
   "execution_count": 6,
   "metadata": {},
   "outputs": [],
   "source": [
    "import re\n",
    "\n",
    "def convertir_a_segundos(duracion):\n",
    "    minutos, segundos = duracion.split(\":\")\n",
    "    return int(minutos) * 60 + int(segundos)\n",
    "\n",
    "ds_copy[\"Duration\"]=ds_copy[\"Duration\"].apply(convertir_a_segundos)"
   ]
  },
  {
   "cell_type": "markdown",
   "metadata": {},
   "source": [
    "**Time_Signature:** la métrica musical de la canción, indica el número de pulsaciones por compás.  \n",
    "Valores unicos de la columna Time_signature  \n",
    "A simple vista todos los valores parecen validos   \n",
    "<span style=\"color: red;\">Se repiten demasiado un unico valor </span>"
   ]
  },
  {
   "cell_type": "code",
   "execution_count": 7,
   "metadata": {},
   "outputs": [
    {
     "data": {
      "text/plain": [
       "Time_Signature\n",
       "4    924\n",
       "3     51\n",
       "1      3\n",
       "5      2\n",
       "Name: count, dtype: int64"
      ]
     },
     "execution_count": 7,
     "metadata": {},
     "output_type": "execute_result"
    }
   ],
   "source": [
    "df[\"Time_Signature\"].value_counts()"
   ]
  },
  {
   "cell_type": "markdown",
   "metadata": {},
   "source": [
    "**Danceability:** una medida de qué tan adecuada es una pista para bailar, basada en el tempo, la estabilidad del ritmo, la fuerza del ritmo y la regularidad general.  \n",
    "Valores unicos de la columna Danceability   \n",
    "<span style=\"color: red;\"> A simple vista todos los valores parecen validos </span> "
   ]
  },
  {
   "cell_type": "code",
   "execution_count": 8,
   "metadata": {},
   "outputs": [
    {
     "data": {
      "text/plain": [
       "Danceability\n",
       "0.637    9\n",
       "0.680    7\n",
       "0.665    7\n",
       "0.649    6\n",
       "0.639    6\n",
       "        ..\n",
       "0.792    1\n",
       "0.798    1\n",
       "0.717    1\n",
       "0.759    1\n",
       "0.452    1\n",
       "Name: count, Length: 494, dtype: int64"
      ]
     },
     "execution_count": 8,
     "metadata": {},
     "output_type": "execute_result"
    }
   ],
   "source": [
    "df[\"Danceability\"].value_counts()"
   ]
  },
  {
   "cell_type": "markdown",
   "metadata": {},
   "source": [
    "**Energy:** una medida de intensidad y actividad en la canción, donde los valores más altos indican una pista más enérgica.  \n",
    "Valores unicos de la columna Energy   \n",
    "<span style= \"color: red\"> A simple vista todos los valores parecen validos </span>"
   ]
  },
  {
   "cell_type": "code",
   "execution_count": 9,
   "metadata": {},
   "outputs": [
    {
     "data": {
      "text/plain": [
       "Energy\n",
       "0.673    7\n",
       "0.528    7\n",
       "0.641    6\n",
       "0.644    6\n",
       "0.532    5\n",
       "        ..\n",
       "0.374    1\n",
       "0.903    1\n",
       "0.535    1\n",
       "0.277    1\n",
       "0.777    1\n",
       "Name: count, Length: 543, dtype: int64"
      ]
     },
     "execution_count": 9,
     "metadata": {},
     "output_type": "execute_result"
    }
   ],
   "source": [
    "df[\"Energy\"].value_counts()"
   ]
  },
  {
   "cell_type": "markdown",
   "metadata": {},
   "source": [
    "**Key:** la tonalidad musical en la que está compuesta la canción, representada por un número entero.  \n",
    "Valores unicos de la columna Key"
   ]
  },
  {
   "cell_type": "code",
   "execution_count": 10,
   "metadata": {},
   "outputs": [
    {
     "data": {
      "text/plain": [
       "Key\n",
       "0     140\n",
       "7     121\n",
       "9     116\n",
       "2     101\n",
       "5      95\n",
       "4      81\n",
       "1      74\n",
       "11     65\n",
       "10     64\n",
       "8      52\n",
       "6      46\n",
       "3      25\n",
       "Name: count, dtype: int64"
      ]
     },
     "execution_count": 10,
     "metadata": {},
     "output_type": "execute_result"
    }
   ],
   "source": [
    "df[\"Key\"].value_counts()"
   ]
  },
  {
   "cell_type": "markdown",
   "metadata": {},
   "source": [
    "**Loudness:** el volumen promedio de la canción, medido en decibelios (dB).  \n",
    "Valores unicos de la columna Loudness  \n",
    "Parece a simple vista no haber un falso nulo  \n",
    "<span style=\"color: red;\">Le eliminamos los numeros despues de la coma ya que asi se suele mostrar en todas las paginas web que hemos visto</span>  "
   ]
  },
  {
   "cell_type": "code",
   "execution_count": 11,
   "metadata": {},
   "outputs": [
    {
     "data": {
      "text/plain": [
       "Loudness\n",
       "-12.472    3\n",
       "-4.653     2\n",
       "-12.264    2\n",
       "-7.246     2\n",
       "-12.923    2\n",
       "          ..\n",
       "-9.885     1\n",
       "-9.283     1\n",
       "-9.711     1\n",
       "-11.367    1\n",
       "-8.339     1\n",
       "Name: count, Length: 916, dtype: int64"
      ]
     },
     "execution_count": 11,
     "metadata": {},
     "output_type": "execute_result"
    }
   ],
   "source": [
    "df[\"Loudness\"].value_counts()"
   ]
  },
  {
   "cell_type": "code",
   "execution_count": 12,
   "metadata": {},
   "outputs": [
    {
     "data": {
      "text/plain": [
       "Loudness\n",
       "-9     114\n",
       "-7      98\n",
       "-8      98\n",
       "-6      93\n",
       "-10     92\n",
       "-12     84\n",
       "-11     73\n",
       "-13     69\n",
       "-5      64\n",
       "-4      53\n",
       "-14     48\n",
       "-15     28\n",
       "-3      18\n",
       "-16     14\n",
       "-17      9\n",
       "-19      6\n",
       "-2       5\n",
       "-18      3\n",
       "-20      3\n",
       "-21      2\n",
       "-27      2\n",
       "-31      1\n",
       "-30      1\n",
       "-26      1\n",
       "-23      1\n",
       "Name: count, dtype: int64"
      ]
     },
     "execution_count": 12,
     "metadata": {},
     "output_type": "execute_result"
    }
   ],
   "source": [
    "ds_copy[\"Loudness\"] = ds_copy[\"Loudness\"].astype(int)\n",
    "ds_copy[\"Loudness\"].value_counts()"
   ]
  },
  {
   "cell_type": "markdown",
   "metadata": {},
   "source": [
    "**Mode:** la modalidad de la pista, indica si la canción está en tono mayor o menor.  \n",
    "Valores unicos de la columna Mode  \n",
    "<span style= \"color: red\">No tiene valores extraños </span>"
   ]
  },
  {
   "cell_type": "code",
   "execution_count": 13,
   "metadata": {},
   "outputs": [
    {
     "data": {
      "text/plain": [
       "Mode\n",
       "1    745\n",
       "0    235\n",
       "Name: count, dtype: int64"
      ]
     },
     "execution_count": 13,
     "metadata": {},
     "output_type": "execute_result"
    }
   ],
   "source": [
    "df[\"Mode\"].value_counts()"
   ]
  },
  {
   "cell_type": "markdown",
   "metadata": {},
   "source": [
    "**Speechiness:** una medida de la presencia de palabras habladas en una pista, valores más altos indican cualidades más parecidas al habla.  \n",
    "Valores unicos de la columna Speechiness   \n",
    "<span style= \"color: red\">No parece haber valores nulos en un principio </span>"
   ]
  },
  {
   "cell_type": "code",
   "execution_count": 14,
   "metadata": {},
   "outputs": [
    {
     "data": {
      "text/plain": [
       "Speechiness\n",
       "0.0336    9\n",
       "0.0346    9\n",
       "0.0341    8\n",
       "0.0283    8\n",
       "0.0287    8\n",
       "         ..\n",
       "0.0455    1\n",
       "0.0281    1\n",
       "0.0390    1\n",
       "0.0460    1\n",
       "0.0531    1\n",
       "Name: count, Length: 455, dtype: int64"
      ]
     },
     "execution_count": 14,
     "metadata": {},
     "output_type": "execute_result"
    }
   ],
   "source": [
    "df[\"Speechiness\"].value_counts()"
   ]
  },
  {
   "cell_type": "markdown",
   "metadata": {},
   "source": [
    "**Acousticness:** una medida de la calidad acústica de la pista, valores más altos indican una mayor probabilidad de ser acústica.  \n",
    "Valores unicos de la columna Acousticness   \n",
    "<span style= \"color: red\">No parece tener valores nulos escondidos </span>"
   ]
  },
  {
   "cell_type": "code",
   "execution_count": 15,
   "metadata": {},
   "outputs": [
    {
     "data": {
      "text/plain": [
       "Acousticness\n",
       "0.35700    8\n",
       "0.30500    5\n",
       "0.48400    5\n",
       "0.30900    5\n",
       "0.18100    5\n",
       "          ..\n",
       "0.05020    1\n",
       "0.00115    1\n",
       "0.48500    1\n",
       "0.79200    1\n",
       "0.57100    1\n",
       "Name: count, Length: 718, dtype: int64"
      ]
     },
     "execution_count": 15,
     "metadata": {},
     "output_type": "execute_result"
    }
   ],
   "source": [
    "df[\"Acousticness\"].value_counts()"
   ]
  },
  {
   "cell_type": "markdown",
   "metadata": {},
   "source": [
    "**Instrumentalness:** una medida que indica la presencia de voces, valores más altos representan pistas más instrumentales.   \n",
    "Valores unicos de la columna Instrumentalness     \n",
    "<span style=\"color: red;\">no entendemos esta variable del todo</span>  \n"
   ]
  },
  {
   "cell_type": "code",
   "execution_count": 16,
   "metadata": {},
   "outputs": [
    {
     "data": {
      "text/plain": [
       "Instrumentalness\n",
       "0.000000    285\n",
       "0.000002      4\n",
       "0.000122      4\n",
       "0.001410      3\n",
       "0.000310      3\n",
       "           ... \n",
       "0.009440      1\n",
       "0.001240      1\n",
       "0.000009      1\n",
       "0.006820      1\n",
       "0.218000      1\n",
       "Name: count, Length: 614, dtype: int64"
      ]
     },
     "execution_count": 16,
     "metadata": {},
     "output_type": "execute_result"
    }
   ],
   "source": [
    "df[\"Instrumentalness\"].value_counts()"
   ]
  },
  {
   "cell_type": "markdown",
   "metadata": {},
   "source": [
    "**Liveness:** una medida de la probabilidad de que la pista se haya interpretado en vivo, valores más altos indican más ruido de audiencia.  \n",
    "Valores unicos de la columna Liveness  \n",
    "<span style= \"color: red\"> Parecen valores correctos </span>"
   ]
  },
  {
   "cell_type": "code",
   "execution_count": 17,
   "metadata": {},
   "outputs": [
    {
     "data": {
      "text/plain": [
       "Liveness\n",
       "0.1050    12\n",
       "0.1080    11\n",
       "0.1130    10\n",
       "0.1030    10\n",
       "0.1200     9\n",
       "          ..\n",
       "0.1620     1\n",
       "0.3480     1\n",
       "0.0837     1\n",
       "0.6430     1\n",
       "0.0521     1\n",
       "Name: count, Length: 531, dtype: int64"
      ]
     },
     "execution_count": 17,
     "metadata": {},
     "output_type": "execute_result"
    }
   ],
   "source": [
    "df[\"Liveness\"].value_counts()"
   ]
  },
  {
   "cell_type": "markdown",
   "metadata": {},
   "source": [
    "**Valence:** Una medida de la positividad musical de la pista, valores más altos indican música más positiva o alegre.  \n",
    "Valores unicos de la columna Valence  \n",
    "<span style=\"color: red\">Parecen valores correctos </span>"
   ]
  },
  {
   "cell_type": "code",
   "execution_count": 18,
   "metadata": {},
   "outputs": [
    {
     "data": {
      "text/plain": [
       "Valence\n",
       "0.962    9\n",
       "0.963    8\n",
       "0.971    6\n",
       "0.969    6\n",
       "0.967    5\n",
       "        ..\n",
       "0.208    1\n",
       "0.316    1\n",
       "0.346    1\n",
       "0.686    1\n",
       "0.238    1\n",
       "Name: count, Length: 570, dtype: int64"
      ]
     },
     "execution_count": 18,
     "metadata": {},
     "output_type": "execute_result"
    }
   ],
   "source": [
    "df[\"Valence\"].value_counts()"
   ]
  },
  {
   "cell_type": "markdown",
   "metadata": {},
   "source": [
    "**Tempo:** la velocidad o ritmo de la pista, medida en pulsaciones por minuto (BPM).  \n",
    "Valores unicos de la columna Tempo  \n",
    "<span style=\"color: red;\">Eliminamos los numeros despues de la coma en cada fila ya que encontramos que siempre se muestra el tempo con numeros enteros</span>  \n"
   ]
  },
  {
   "cell_type": "code",
   "execution_count": 19,
   "metadata": {},
   "outputs": [
    {
     "data": {
      "text/plain": [
       "Tempo\n",
       "102.977    3\n",
       "130.166    2\n",
       "120.157    2\n",
       "85.126     2\n",
       "79.764     2\n",
       "          ..\n",
       "113.245    1\n",
       "90.955     1\n",
       "110.656    1\n",
       "137.702    1\n",
       "115.058    1\n",
       "Name: count, Length: 955, dtype: int64"
      ]
     },
     "execution_count": 19,
     "metadata": {},
     "output_type": "execute_result"
    }
   ],
   "source": [
    "df[\"Tempo\"].value_counts()"
   ]
  },
  {
   "cell_type": "code",
   "execution_count": 20,
   "metadata": {},
   "outputs": [
    {
     "data": {
      "text/plain": [
       "Tempo\n",
       "109    23\n",
       "113    21\n",
       "120    19\n",
       "114    18\n",
       "101    17\n",
       "       ..\n",
       "183     1\n",
       "178     1\n",
       "211     1\n",
       "67      1\n",
       "61      1\n",
       "Name: count, Length: 128, dtype: int64"
      ]
     },
     "execution_count": 20,
     "metadata": {},
     "output_type": "execute_result"
    }
   ],
   "source": [
    "ds_copy[\"Tempo\"] = ds_copy[\"Tempo\"].astype(int)\n",
    "ds_copy[\"Tempo\"].value_counts()"
   ]
  },
  {
   "cell_type": "markdown",
   "metadata": {},
   "source": [
    "**Popularity:** una puntuación que refleja la popularidad de la pista, generalmente basada en los recuentos de transmisiones y otras métricas.  \n",
    "Valores unicos de la columna Popularity  \n",
    "   \n",
    "<span style=\"color: red;\">Encontramos la siguiente explicacion de la columna ya que nos resultaba extraña </span>     \n",
    "popularity: The popularity of a track is a value between 0 and 100, with 100 being the most popular. The popularity is calculated by algorithm and is based, in the most part, on the total number of plays the track has had and how recent those plays are. Generally speaking, songs that are being played a lot now will have a higher popularity than songs that were played a lot in the past. Duplicate tracks (e.g. the same track from a single and an album) are rated independently. Artist and album popularity is derived mathematically from track popularity.\n",
    "    \n",
    "sacado de un dataset de spotify de kagle tiene sentido "
   ]
  },
  {
   "cell_type": "code",
   "execution_count": 21,
   "metadata": {},
   "outputs": [
    {
     "data": {
      "text/plain": [
       "Popularity\n",
       "63    31\n",
       "64    31\n",
       "55    30\n",
       "49    26\n",
       "74    26\n",
       "      ..\n",
       "9      2\n",
       "8      1\n",
       "89     1\n",
       "21     1\n",
       "3      1\n",
       "Name: count, Length: 87, dtype: int64"
      ]
     },
     "execution_count": 21,
     "metadata": {},
     "output_type": "execute_result"
    }
   ],
   "source": [
    "df[\"Popularity\"].value_counts()"
   ]
  },
  {
   "cell_type": "code",
   "execution_count": 22,
   "metadata": {},
   "outputs": [
    {
     "data": {
      "text/html": [
       "<div>\n",
       "<style scoped>\n",
       "    .dataframe tbody tr th:only-of-type {\n",
       "        vertical-align: middle;\n",
       "    }\n",
       "\n",
       "    .dataframe tbody tr th {\n",
       "        vertical-align: top;\n",
       "    }\n",
       "\n",
       "    .dataframe thead th {\n",
       "        text-align: right;\n",
       "    }\n",
       "</style>\n",
       "<table border=\"1\" class=\"dataframe\">\n",
       "  <thead>\n",
       "    <tr style=\"text-align: right;\">\n",
       "      <th></th>\n",
       "      <th>Track</th>\n",
       "      <th>Artist</th>\n",
       "      <th>Duration</th>\n",
       "      <th>Time_Signature</th>\n",
       "      <th>Danceability</th>\n",
       "      <th>Energy</th>\n",
       "      <th>Key</th>\n",
       "      <th>Loudness</th>\n",
       "      <th>Mode</th>\n",
       "      <th>Speechiness</th>\n",
       "      <th>Acousticness</th>\n",
       "      <th>Instrumentalness</th>\n",
       "      <th>Liveness</th>\n",
       "      <th>Valence</th>\n",
       "      <th>Tempo</th>\n",
       "      <th>Popularity</th>\n",
       "      <th>Year</th>\n",
       "    </tr>\n",
       "  </thead>\n",
       "  <tbody>\n",
       "    <tr>\n",
       "      <th>881</th>\n",
       "      <td>Stumblin’ In</td>\n",
       "      <td>Suzi Quatro &amp; Chris Norman</td>\n",
       "      <td>213</td>\n",
       "      <td>4</td>\n",
       "      <td>0.875</td>\n",
       "      <td>0.518</td>\n",
       "      <td>2</td>\n",
       "      <td>-8</td>\n",
       "      <td>1</td>\n",
       "      <td>0.0551</td>\n",
       "      <td>0.0638</td>\n",
       "      <td>0.009950</td>\n",
       "      <td>0.1250</td>\n",
       "      <td>0.370</td>\n",
       "      <td>126</td>\n",
       "      <td>90</td>\n",
       "      <td>1979</td>\n",
       "    </tr>\n",
       "    <tr>\n",
       "      <th>283</th>\n",
       "      <td>Wildflower</td>\n",
       "      <td>Skylark</td>\n",
       "      <td>261</td>\n",
       "      <td>4</td>\n",
       "      <td>0.467</td>\n",
       "      <td>0.247</td>\n",
       "      <td>6</td>\n",
       "      <td>-12</td>\n",
       "      <td>0</td>\n",
       "      <td>0.0431</td>\n",
       "      <td>0.6120</td>\n",
       "      <td>0.000271</td>\n",
       "      <td>0.1700</td>\n",
       "      <td>0.126</td>\n",
       "      <td>148</td>\n",
       "      <td>90</td>\n",
       "      <td>1973</td>\n",
       "    </tr>\n",
       "    <tr>\n",
       "      <th>284</th>\n",
       "      <td>My Love</td>\n",
       "      <td>Paul McCartney &amp; Wings</td>\n",
       "      <td>137</td>\n",
       "      <td>4</td>\n",
       "      <td>0.504</td>\n",
       "      <td>0.308</td>\n",
       "      <td>9</td>\n",
       "      <td>-14</td>\n",
       "      <td>1</td>\n",
       "      <td>0.0321</td>\n",
       "      <td>0.8680</td>\n",
       "      <td>0.135000</td>\n",
       "      <td>0.1580</td>\n",
       "      <td>0.121</td>\n",
       "      <td>113</td>\n",
       "      <td>89</td>\n",
       "      <td>1973</td>\n",
       "    </tr>\n",
       "    <tr>\n",
       "      <th>383</th>\n",
       "      <td>Mockingbird</td>\n",
       "      <td>Carly Simon &amp; James Taylor</td>\n",
       "      <td>250</td>\n",
       "      <td>4</td>\n",
       "      <td>0.637</td>\n",
       "      <td>0.678</td>\n",
       "      <td>0</td>\n",
       "      <td>-3</td>\n",
       "      <td>1</td>\n",
       "      <td>0.2660</td>\n",
       "      <td>0.2090</td>\n",
       "      <td>0.000000</td>\n",
       "      <td>0.1560</td>\n",
       "      <td>0.254</td>\n",
       "      <td>84</td>\n",
       "      <td>86</td>\n",
       "      <td>1974</td>\n",
       "    </tr>\n",
       "    <tr>\n",
       "      <th>681</th>\n",
       "      <td>Dreams</td>\n",
       "      <td>Fleetwood Mac</td>\n",
       "      <td>257</td>\n",
       "      <td>4</td>\n",
       "      <td>0.828</td>\n",
       "      <td>0.492</td>\n",
       "      <td>0</td>\n",
       "      <td>-9</td>\n",
       "      <td>1</td>\n",
       "      <td>0.0276</td>\n",
       "      <td>0.0644</td>\n",
       "      <td>0.004280</td>\n",
       "      <td>0.1280</td>\n",
       "      <td>0.789</td>\n",
       "      <td>120</td>\n",
       "      <td>86</td>\n",
       "      <td>1977</td>\n",
       "    </tr>\n",
       "    <tr>\n",
       "      <th>...</th>\n",
       "      <td>...</td>\n",
       "      <td>...</td>\n",
       "      <td>...</td>\n",
       "      <td>...</td>\n",
       "      <td>...</td>\n",
       "      <td>...</td>\n",
       "      <td>...</td>\n",
       "      <td>...</td>\n",
       "      <td>...</td>\n",
       "      <td>...</td>\n",
       "      <td>...</td>\n",
       "      <td>...</td>\n",
       "      <td>...</td>\n",
       "      <td>...</td>\n",
       "      <td>...</td>\n",
       "      <td>...</td>\n",
       "      <td>...</td>\n",
       "    </tr>\n",
       "    <tr>\n",
       "      <th>879</th>\n",
       "      <td>Sentimental Lady</td>\n",
       "      <td>Bob Welch</td>\n",
       "      <td>275</td>\n",
       "      <td>4</td>\n",
       "      <td>0.539</td>\n",
       "      <td>0.396</td>\n",
       "      <td>4</td>\n",
       "      <td>-16</td>\n",
       "      <td>1</td>\n",
       "      <td>0.0378</td>\n",
       "      <td>0.7770</td>\n",
       "      <td>0.000118</td>\n",
       "      <td>0.1460</td>\n",
       "      <td>0.621</td>\n",
       "      <td>75</td>\n",
       "      <td>0</td>\n",
       "      <td>1978</td>\n",
       "    </tr>\n",
       "    <tr>\n",
       "      <th>880</th>\n",
       "      <td>This Time I’m In It For Love</td>\n",
       "      <td>Player</td>\n",
       "      <td>116</td>\n",
       "      <td>4</td>\n",
       "      <td>0.965</td>\n",
       "      <td>0.427</td>\n",
       "      <td>8</td>\n",
       "      <td>-19</td>\n",
       "      <td>1</td>\n",
       "      <td>0.1050</td>\n",
       "      <td>0.8830</td>\n",
       "      <td>0.905000</td>\n",
       "      <td>0.1050</td>\n",
       "      <td>0.966</td>\n",
       "      <td>139</td>\n",
       "      <td>0</td>\n",
       "      <td>1978</td>\n",
       "    </tr>\n",
       "    <tr>\n",
       "      <th>184</th>\n",
       "      <td>Have You Ever Seen The Rain / Hey Tonight</td>\n",
       "      <td>Creedence Clearwater Revival</td>\n",
       "      <td>158</td>\n",
       "      <td>4</td>\n",
       "      <td>0.735</td>\n",
       "      <td>0.556</td>\n",
       "      <td>0</td>\n",
       "      <td>-5</td>\n",
       "      <td>1</td>\n",
       "      <td>0.0276</td>\n",
       "      <td>0.1170</td>\n",
       "      <td>0.000000</td>\n",
       "      <td>0.0738</td>\n",
       "      <td>0.877</td>\n",
       "      <td>127</td>\n",
       "      <td>0</td>\n",
       "      <td>1971</td>\n",
       "    </tr>\n",
       "    <tr>\n",
       "      <th>185</th>\n",
       "      <td>I’ve Found Someone Of My Own</td>\n",
       "      <td>The Free Movement</td>\n",
       "      <td>214</td>\n",
       "      <td>3</td>\n",
       "      <td>0.676</td>\n",
       "      <td>0.334</td>\n",
       "      <td>7</td>\n",
       "      <td>-14</td>\n",
       "      <td>1</td>\n",
       "      <td>0.0526</td>\n",
       "      <td>0.8030</td>\n",
       "      <td>0.479000</td>\n",
       "      <td>0.1580</td>\n",
       "      <td>0.776</td>\n",
       "      <td>112</td>\n",
       "      <td>0</td>\n",
       "      <td>1971</td>\n",
       "    </tr>\n",
       "    <tr>\n",
       "      <th>979</th>\n",
       "      <td>Dim All The Nights</td>\n",
       "      <td>Donna Summer</td>\n",
       "      <td>248</td>\n",
       "      <td>4</td>\n",
       "      <td>0.758</td>\n",
       "      <td>0.540</td>\n",
       "      <td>7</td>\n",
       "      <td>-10</td>\n",
       "      <td>1</td>\n",
       "      <td>0.0385</td>\n",
       "      <td>0.0551</td>\n",
       "      <td>0.000000</td>\n",
       "      <td>0.0343</td>\n",
       "      <td>0.661</td>\n",
       "      <td>121</td>\n",
       "      <td>0</td>\n",
       "      <td>1979</td>\n",
       "    </tr>\n",
       "  </tbody>\n",
       "</table>\n",
       "<p>980 rows × 17 columns</p>\n",
       "</div>"
      ],
      "text/plain": [
       "                                         Track                        Artist  \\\n",
       "881                               Stumblin’ In    Suzi Quatro & Chris Norman   \n",
       "283                                 Wildflower                       Skylark   \n",
       "284                                    My Love        Paul McCartney & Wings   \n",
       "383                                Mockingbird    Carly Simon & James Taylor   \n",
       "681                                     Dreams                 Fleetwood Mac   \n",
       "..                                         ...                           ...   \n",
       "879                           Sentimental Lady                     Bob Welch   \n",
       "880               This Time I’m In It For Love                        Player   \n",
       "184  Have You Ever Seen The Rain / Hey Tonight  Creedence Clearwater Revival   \n",
       "185               I’ve Found Someone Of My Own             The Free Movement   \n",
       "979                         Dim All The Nights                  Donna Summer   \n",
       "\n",
       "     Duration  Time_Signature  Danceability  Energy  Key  Loudness  Mode  \\\n",
       "881       213               4         0.875   0.518    2        -8     1   \n",
       "283       261               4         0.467   0.247    6       -12     0   \n",
       "284       137               4         0.504   0.308    9       -14     1   \n",
       "383       250               4         0.637   0.678    0        -3     1   \n",
       "681       257               4         0.828   0.492    0        -9     1   \n",
       "..        ...             ...           ...     ...  ...       ...   ...   \n",
       "879       275               4         0.539   0.396    4       -16     1   \n",
       "880       116               4         0.965   0.427    8       -19     1   \n",
       "184       158               4         0.735   0.556    0        -5     1   \n",
       "185       214               3         0.676   0.334    7       -14     1   \n",
       "979       248               4         0.758   0.540    7       -10     1   \n",
       "\n",
       "     Speechiness  Acousticness  Instrumentalness  Liveness  Valence  Tempo  \\\n",
       "881       0.0551        0.0638          0.009950    0.1250    0.370    126   \n",
       "283       0.0431        0.6120          0.000271    0.1700    0.126    148   \n",
       "284       0.0321        0.8680          0.135000    0.1580    0.121    113   \n",
       "383       0.2660        0.2090          0.000000    0.1560    0.254     84   \n",
       "681       0.0276        0.0644          0.004280    0.1280    0.789    120   \n",
       "..           ...           ...               ...       ...      ...    ...   \n",
       "879       0.0378        0.7770          0.000118    0.1460    0.621     75   \n",
       "880       0.1050        0.8830          0.905000    0.1050    0.966    139   \n",
       "184       0.0276        0.1170          0.000000    0.0738    0.877    127   \n",
       "185       0.0526        0.8030          0.479000    0.1580    0.776    112   \n",
       "979       0.0385        0.0551          0.000000    0.0343    0.661    121   \n",
       "\n",
       "     Popularity  Year  \n",
       "881          90  1979  \n",
       "283          90  1973  \n",
       "284          89  1973  \n",
       "383          86  1974  \n",
       "681          86  1977  \n",
       "..          ...   ...  \n",
       "879           0  1978  \n",
       "880           0  1978  \n",
       "184           0  1971  \n",
       "185           0  1971  \n",
       "979           0  1979  \n",
       "\n",
       "[980 rows x 17 columns]"
      ]
     },
     "execution_count": 22,
     "metadata": {},
     "output_type": "execute_result"
    }
   ],
   "source": [
    "ds_popu = ds_copy.copy()\n",
    "ds_popu = ds_popu.sort_values(by = \"Popularity\", ascending=False)\n",
    "ds_popu"
   ]
  },
  {
   "cell_type": "code",
   "execution_count": 23,
   "metadata": {},
   "outputs": [],
   "source": [
    "#ds_copy[\"Popularity\"] = ds_copy[\"Popularity\"].replace(0,pd.NA)\n",
    "ds_copy[\"Popularity\"] = ds_copy[\"Popularity\"].astype(int)"
   ]
  },
  {
   "cell_type": "markdown",
   "metadata": {},
   "source": [
    "---"
   ]
  },
  {
   "cell_type": "markdown",
   "metadata": {},
   "source": [
    "<div style= \"text-align: center\">\n",
    "    <h2> Planteo de hipotesis </h2>\n",
    "</div>\n",
    "\n",
    "- las canciones en la primer mitad de decada son significativamente distintas a las de la segunda mitad. Es decir que no se mantuvo un estilo marcado.\n",
    "- hacer un anova separando por time_signature y hacer un analisis y como variable de respuesta la popularidad.\n",
    "- \n",
    "\n",
    "---"
   ]
  },
  {
   "cell_type": "markdown",
   "metadata": {},
   "source": [
    "\n",
    "<div style=\"text-align: center\">\n",
    "    <h2>Analisis de las hipotesis</h2>\n",
    "</div>"
   ]
  },
  {
   "cell_type": "code",
   "execution_count": 24,
   "metadata": {},
   "outputs": [
    {
     "name": "stdout",
     "output_type": "stream",
     "text": [
      "Correlación entre Acousticness y Energy: -0.6026\n"
     ]
    }
   ],
   "source": [
    "import numpy as np\n",
    "\n",
    "variable1 = \"Acousticness\"\n",
    "variable2 = \"Energy\"\n",
    "\n",
    "datosColumna1 = ds_copy[variable1]\n",
    "datosColumna2 = ds_copy[variable2]\n",
    "\n",
    "coeficiente_correlacion = np.corrcoef(datosColumna1, datosColumna2)[0, 1]\n",
    "\n",
    "print(f\"Correlación entre {variable1} y {variable2}: {coeficiente_correlacion:.4f}\")"
   ]
  },
  {
   "cell_type": "markdown",
   "metadata": {},
   "source": [
    "La correlacion entre acousticness y energy no es muy alta, ya que tiene como valor absoluto 0.60 cuando para ser correlacion alta deberia ser 0.7, pero la tenemos en cuenta igual para el analisis porque no esta tan lejos de 0.7 y no hay por ahora correlaciones mas altas que esta."
   ]
  },
  {
   "cell_type": "code",
   "execution_count": 25,
   "metadata": {},
   "outputs": [
    {
     "name": "stdout",
     "output_type": "stream",
     "text": [
      "Correlación entre Danceability y Valence: 0.5431\n"
     ]
    }
   ],
   "source": [
    "import numpy as np\n",
    "\n",
    "variable1 = \"Danceability\"\n",
    "variable2 = \"Valence\"\n",
    "\n",
    "datosColumna1 = ds_copy[variable1]\n",
    "datosColumna2 = ds_copy[variable2]\n",
    "\n",
    "coeficiente_correlacion = np.corrcoef(datosColumna1, datosColumna2)[0, 1]\n",
    "\n",
    "print(f\"Correlación entre {variable1} y {variable2}: {coeficiente_correlacion:.4f}\")"
   ]
  },
  {
   "cell_type": "markdown",
   "metadata": {},
   "source": [
    "Como podemos ver esta correlacion es aun mas baja que la anterior por lo que no podemos decir nada sobre que esta relacion no es lo suficientemente fuerte como para analizarla detenidamente."
   ]
  },
  {
   "cell_type": "code",
   "execution_count": 26,
   "metadata": {},
   "outputs": [
    {
     "name": "stdout",
     "output_type": "stream",
     "text": [
      "Correlación entre Loudness y Energy: 0.6688\n"
     ]
    }
   ],
   "source": [
    "import numpy as np\n",
    "\n",
    "variable1 = \"Loudness\"\n",
    "variable2 = \"Energy\"\n",
    "\n",
    "datosColumna1 = ds_copy[variable1]\n",
    "datosColumna2 = ds_copy[variable2]\n",
    "\n",
    "coeficiente_correlacion = np.corrcoef(datosColumna1, datosColumna2)[0, 1]\n",
    "\n",
    "print(f\"Correlación entre {variable1} y {variable2}: {coeficiente_correlacion:.4f}\")"
   ]
  },
  {
   "cell_type": "markdown",
   "metadata": {},
   "source": [
    "Como se puede observar esta relacion es la que resulta que tiene un indice de correlacion mas alto de todo el dataset, ademas de que esta suficientemente cerca del 0.7 como para que podamos decir y demostrar que esta correlacion es alta.\n",
    "\n",
    "---"
   ]
  },
  {
   "cell_type": "markdown",
   "metadata": {},
   "source": [
    "<div style=\"text-align: center\">\n",
    "    <h2>Profile Report post preprocesamiento</h2>\n",
    "</div>"
   ]
  },
  {
   "cell_type": "code",
   "execution_count": 27,
   "metadata": {},
   "outputs": [],
   "source": [
    "report = pp.ProfileReport(ds_copy)\n",
    "# report.to_notebook_iframe()\n",
    "# report.to_file(output_file=\"coversCopy.html\")"
   ]
  },
  {
   "cell_type": "markdown",
   "metadata": {},
   "source": [
    "# Normalizacion de los datos "
   ]
  },
  {
   "cell_type": "code",
   "execution_count": 28,
   "metadata": {},
   "outputs": [
    {
     "name": "stdout",
     "output_type": "stream",
     "text": [
      "<class 'pandas.core.frame.DataFrame'>\n",
      "RangeIndex: 980 entries, 0 to 979\n",
      "Data columns (total 15 columns):\n",
      " #   Column            Non-Null Count  Dtype  \n",
      "---  ------            --------------  -----  \n",
      " 0   Duration          980 non-null    int64  \n",
      " 1   Time_Signature    980 non-null    int64  \n",
      " 2   Danceability      980 non-null    float64\n",
      " 3   Energy            980 non-null    float64\n",
      " 4   Key               980 non-null    int64  \n",
      " 5   Loudness          980 non-null    int64  \n",
      " 6   Mode              980 non-null    int64  \n",
      " 7   Speechiness       980 non-null    float64\n",
      " 8   Acousticness      980 non-null    float64\n",
      " 9   Instrumentalness  980 non-null    float64\n",
      " 10  Liveness          980 non-null    float64\n",
      " 11  Valence           980 non-null    float64\n",
      " 12  Tempo             980 non-null    int64  \n",
      " 13  Popularity        980 non-null    int64  \n",
      " 14  Year              980 non-null    int64  \n",
      "dtypes: float64(7), int64(8)\n",
      "memory usage: 115.0 KB\n"
     ]
    }
   ],
   "source": [
    "ds_filtred=ds_copy.copy()\n",
    "ds_filtred.drop([\"Track\", \"Artist\"], axis=1, inplace=True)\n",
    "ds_filtred.info()"
   ]
  },
  {
   "cell_type": "code",
   "execution_count": 29,
   "metadata": {},
   "outputs": [
    {
     "data": {
      "image/png": "[encoded data removed]",
      "text/plain": [
       "<Figure size 640x480 with 1 Axes>"
      ]
     },
     "metadata": {},
     "output_type": "display_data"
    },
    {
     "data": {
      "text/plain": [
       "array([0.18029359, 0.09803751])"
      ]
     },
     "execution_count": 29,
     "metadata": {},
     "output_type": "execute_result"
    }
   ],
   "source": [
    "from sklearn.preprocessing import StandardScaler\n",
    "from sklearn.decomposition import PCA\n",
    "import matplotlib.pyplot as plt\n",
    "\n",
    "scaler = StandardScaler()\n",
    "ds_scaled = scaler.fit_transform(ds_filtred)\n",
    "\n",
    "#print(np.std(ds_scaled, axis=0))\n",
    "\n",
    "pca = PCA(n_components=2)\n",
    "X_pca = pca.fit_transform(ds_scaled)\n",
    "# graficamos los datos\n",
    "plt.scatter(X_pca[:,0], X_pca[:,1])\n",
    "plt.grid(True)\n",
    "plt.xlabel('Proyección PCA 1')\n",
    "plt.ylabel('Proyección PCA 2')\n",
    "plt.title('Proyección del conjunto de datos a 2 dimensiones')\n",
    "# %matplotlib inline\n",
    "plt.show()\n",
    "\n",
    "\n",
    "pca.explained_variance_ratio_"
   ]
  },
  {
   "cell_type": "markdown",
   "metadata": {},
   "source": [
    "Como la varianza explicada usando PCA nos dio tan baja con dos dimensiones, podemos pensar que o no tienen relaciones lineales o los datos estan muy dispersos."
   ]
  },
  {
   "cell_type": "code",
   "execution_count": 32,
   "metadata": {},
   "outputs": [
    {
     "name": "stdout",
     "output_type": "stream",
     "text": [
      "Before t-SNE: (980, 15)\n",
      "After t-SNE: (980, 2)\n"
     ]
    },
    {
     "data": {
      "image/png": "[encoded data removed]",
      "text/plain": [
       "<Figure size 640x480 with 2 Axes>"
      ]
     },
     "metadata": {},
     "output_type": "display_data"
    }
   ],
   "source": [
    "\n",
    "from sklearn.manifold import TSNE\n",
    "\n",
    "\n",
    "ds_tsne = TSNE(n_components=2, random_state=10).fit_transform(ds_scaled)  \n",
    "\n",
    "print('Before t-SNE: {}'.format(ds_scaled.shape))\n",
    "print('After t-SNE: {}'.format(ds_tsne.shape))\n",
    "\n",
    "\n",
    "plt.scatter(ds_tsne[:,0], ds_tsne[:,1], c=ds_copy[\"Time_Signature\"], cmap='viridis')\n",
    "plt.grid(True)\n",
    "plt.xlabel('Componente 1 t-SNE')\n",
    "plt.ylabel('Component 2 t-SNE')\n",
    "plt.title('Representación t-SNE del conjunto')\n",
    "plt.colorbar()\n",
    "plt.show()"
   ]
  },
  {
   "cell_type": "markdown",
   "metadata": {},
   "source": [
    "mirarlo con mas ganas dado q literalmente cuadno hicimos esto somos tone y dimu nada mas en el aula xd"
   ]
  },
  {
   "cell_type": "code",
   "execution_count": 31,
   "metadata": {},
   "outputs": [
    {
     "name": "stdout",
     "output_type": "stream",
     "text": [
      "Antes de UMAP: (980, 15)\n",
      "Después de UMAP: (980, 2)\n"
     ]
    },
    {
     "data": {
      "image/png": "[encoded data removed]",
      "text/plain": [
       "<Figure size 640x480 with 2 Axes>"
      ]
     },
     "metadata": {},
     "output_type": "display_data"
    }
   ],
   "source": [
    "# importamos umap\n",
    "import umap\n",
    "\n",
    "ds_umap = umap.UMAP(n_components=2).fit_transform(ds_scaled)\n",
    "\n",
    "print('Antes de UMAP: {}'.format(ds_scaled.shape))\n",
    "print('Después de UMAP: {}'.format(ds_umap.shape))\n",
    "\n",
    "# graficamos los datos, el color de cada punto representa el valor de la casa\n",
    "plt.scatter(ds_umap[:,0], ds_umap[:,1], c=ds_copy[\"Time_Signature\"], cmap='viridis')\n",
    "plt.grid(True)\n",
    "plt.xlabel('Componente 1 UMAP')\n",
    "plt.ylabel('Component 2 UMAP')\n",
    "plt.title('Representación UMAP del conjunto')\n",
    "plt.colorbar()\n",
    "plt.show()"
   ]
  },
  {
   "cell_type": "markdown",
   "metadata": {},
   "source": [
    "\n"
   ]
  }
 ],
 "metadata": {
  "kernelspec": {
   "display_name": "TPEnv",
   "language": "python",
   "name": "python3"
  },
  "language_info": {
   "codemirror_mode": {
    "name": "ipython",
    "version": 3
   },
   "file_extension": ".py",
   "mimetype": "text/x-python",
   "name": "python",
   "nbconvert_exporter": "python",
   "pygments_lexer": "ipython3",
   "version": "3.12.5"
  }
 },
 "nbformat": 4,
 "nbformat_minor": 2
}
